{
 "cells": [
  {
   "cell_type": "markdown",
   "metadata": {},
   "source": [
    "On s'intéresse au problème du rendu de monnaie. On suppose qu'on dispose d'un nombre infini de billets de 5 euros, de pièces de 2 euros et de pièces de 1 euro.\n",
    "\n",
    "Le but est d'écrire une fonction nommée rendu dont le paramètre est un entier positif non nul somme_a_rendre et qui retourne une liste de trois entiers n1, n2 et n3 qui correspondent aux nombres de billets de 5 euros (n1), de pièces de 2 euros (n2) et de pièces de 1 euros (n3) à rendre afin que le total rendu soit égal à somme_a_rendre.\n",
    "\n",
    "On utilisera un algorithme glouton : on commencera par rendre le nombre maximal de billets de 5 euros, puis celui des pièces de 2 euros et enfin celui des pièces de 1 euro.\n",
    "\n",
    "### Exemples:\n",
    "\n",
    "> rendu(13)    \n",
    "[2,1,1]\n",
    "\n",
    "> rendu(64)    \n",
    "[12,2,0]\n",
    "\n",
    "> rendu(89)    \n",
    "[17,2,0]"
   ]
  },
  {
   "cell_type": "code",
   "execution_count": null,
   "metadata": {},
   "outputs": [],
   "source": [
    "# ALGORITHME GLOUTON (itératif)\n",
    "\n",
    "\"\"\"\n",
    "La fonction rendu renvoie le nombres de billets et pièces pour chaque valeur.\n",
    "On obtient une liste avec le nombre de billets et pièces selon les valeurs rangées par valeur décroissante.\n",
    "Exemple : 13 euros\n",
    "rendu(13) renvoie la liste [2,1,1] donc 2 billets de 5 euros, 1 pièce de 2 euros et 1 pièce de 1 euro.\n",
    "\"\"\"\n",
    "\n",
    "def rendu(somme_a_rendre):\n",
    "    L=[0,0,0]\n",
    "    while somme_a_rendre > 0:\n",
    "        if somme_a_rendre >= 5:\n",
    "            L[0] += 1\n",
    "            somme_a_rendre -= 5\n",
    "        elif somme_a_rendre >= 2:\n",
    "            L[1] += 1\n",
    "            somme_a_rendre -= 2\n",
    "        else:\n",
    "            L[2] += 1\n",
    "            somme_a_rendre -= 1\n",
    "    return L\n",
    "\n",
    "assert rendu(13)==[2,1,1]\n",
    "assert rendu(64)==[12,2,0]\n",
    "assert rendu(89)==[17,2,0]"
   ]
  },
  {
   "cell_type": "code",
   "execution_count": 17,
   "metadata": {},
   "outputs": [],
   "source": [
    "# ALGORITHME GLOUTON (récursif)\n",
    "\n",
    "def rendu_recursif(somme_a_rendre,pieces):\n",
    "    if somme_a_rendre == 0:\n",
    "        return pieces\n",
    "    else:\n",
    "        if somme_a_rendre >= 5:\n",
    "            somme_a_rendre -= 5\n",
    "            pieces[0]+=1\n",
    "        elif somme_a_rendre >= 2:\n",
    "            somme_a_rendre -= 2\n",
    "            pieces[1]+=1\n",
    "        else:\n",
    "            somme_a_rendre -= 1\n",
    "            pieces[2]+=1\n",
    "        \n",
    "        return rendu_recursif(somme_a_rendre,pieces)\n",
    "\n",
    "assert rendu_recursif(13,[0,0,0])==[2,1,1]\n",
    "assert rendu_recursif(64,[0,0,0])==[12,2,0]\n",
    "assert rendu_recursif(89,[0,0,0])==[17,2,0]"
   ]
  },
  {
   "cell_type": "code",
   "execution_count": 20,
   "metadata": {},
   "outputs": [],
   "source": [
    "# ALGORITHME GLOUTON (itératif)\n",
    "\n",
    "\"\"\"\n",
    "La fonction rendu renvoie le nombres minimal (optimisé) de billets et pièces pour la somme demandée..\n",
    "On obtient un nombre de billets et pièces sans connaitre la valeur des billets et pièces utilisées.\n",
    "Exemple : 13 euros\n",
    "rendu(13) renvoie 4.\n",
    "\"\"\"\n",
    "\n",
    "def rendu_nb_pieces(somme_a_rendre):\n",
    "    n=0\n",
    "    while somme_a_rendre > 0:\n",
    "        if somme_a_rendre >= 5:\n",
    "            somme_a_rendre -= 5\n",
    "        elif somme_a_rendre >= 2:\n",
    "            somme_a_rendre -= 2\n",
    "        else:\n",
    "            somme_a_rendre -= 1\n",
    "        n +=1\n",
    "    return n\n",
    "\n",
    "assert rendu_nb_pieces(13)==4\n",
    "assert rendu_nb_pieces(64)==14\n",
    "assert rendu_nb_pieces(89)==19"
   ]
  },
  {
   "cell_type": "code",
   "execution_count": 2,
   "metadata": {},
   "outputs": [],
   "source": [
    "# ALGORITHME GLOUTON (récursif)\n",
    "\n",
    "def rendu_nb_pieces_recursif(somme_a_rendre,nb_pieces=0):\n",
    "    if somme_a_rendre == 0:\n",
    "        return nb_pieces\n",
    "    else:\n",
    "        if somme_a_rendre >= 5:\n",
    "            somme_a_rendre -= 5\n",
    "        elif somme_a_rendre >= 2:\n",
    "            somme_a_rendre -= 2\n",
    "        else:\n",
    "            somme_a_rendre -= 1\n",
    "        return rendu_nb_pieces_recursif(somme_a_rendre,nb_pieces+1)\n",
    "\n",
    "assert rendu_nb_pieces_recursif(13)==4\n",
    "assert rendu_nb_pieces_recursif(64)==14\n",
    "assert rendu_nb_pieces_recursif(89)==19"
   ]
  },
  {
   "cell_type": "code",
   "execution_count": 21,
   "metadata": {},
   "outputs": [],
   "source": [
    "# ALGORITHME GLOUTON (itératif)\n",
    "\n",
    "\"\"\"\n",
    "La fonction rendu renvoie le nombres minimal (optimisé) de billets et pièces pour la somme demandée.\n",
    "La monnaie utilisée est donnée dans une liste : billets de 5, pièces de 2 et 1\n",
    "On obtient un nombre de billets et pièces sans connaitre la valeur des billets et pièces utilisées.\n",
    "Exemple : 13 euros\n",
    "rendu(13) renvoie 4.\n",
    "\"\"\"\n",
    "\n",
    "def rendu_monnaie(somme_a_rendre,monnaie):\n",
    "    nb_pieces = 0\n",
    "    for p in monnaie:\n",
    "        while somme_a_rendre-p >=0:\n",
    "            somme_a_rendre -= p\n",
    "            nb_pieces += 1\n",
    "    return nb_pieces\n",
    "            \n",
    "assert rendu_monnaie(13,[5,2,1])==4\n",
    "assert rendu_monnaie(64,[5,2,1])==14\n",
    "assert rendu_monnaie(89,[5,2,1])==19\n",
    "assert rendu_monnaie(13,[6,2,1])==3\n",
    "assert rendu_monnaie(64,[6,2,1])==12\n",
    "assert rendu_monnaie(89,[6,2,1])==17"
   ]
  },
  {
   "cell_type": "code",
   "execution_count": 24,
   "metadata": {},
   "outputs": [],
   "source": [
    "# ALGORITHME GLOUTON (recursif)\n",
    "\n",
    "def rendu_monnaie_recursif(somme_a_rendre,monnaie):\n",
    "    if somme_a_rendre==0:\n",
    "        return 0\n",
    "    for p in monnaie:\n",
    "        if somme_a_rendre-p >= 0:\n",
    "            return 1+rendu_monnaie_recursif(somme_a_rendre-p,monnaie)\n",
    "            \n",
    "assert rendu_monnaie_recursif(13,[5,2,1])==4\n",
    "assert rendu_monnaie_recursif(64,[5,2,1])==14\n",
    "assert rendu_monnaie_recursif(89,[5,2,1])==19\n",
    "assert rendu_monnaie_recursif(13,[6,2,1])==3\n",
    "assert rendu_monnaie_recursif(64,[6,2,1])==12\n",
    "assert rendu_monnaie_recursif(89,[6,2,1])==17\n",
    "# solution non optimisée\n",
    "assert rendu_monnaie_recursif(13,[10,6,1])==4 # au lieu de 3 : 6+6+1=13\n",
    "assert rendu_monnaie_recursif(19,[10,6,1])==5 # au lieu de 4 : 6+6+6+1=19"
   ]
  },
  {
   "cell_type": "markdown",
   "metadata": {},
   "source": [
    "## Programmation dynamique"
   ]
  },
  {
   "cell_type": "markdown",
   "metadata": {},
   "source": [
    "On cherche une fonction qui donne toujours la solution optimale quel que soit le système monnétaire utilisé (mais cannonique pour avoir au moins une solution)."
   ]
  },
  {
   "cell_type": "code",
   "execution_count": 1,
   "metadata": {},
   "outputs": [],
   "source": [
    "def rendu_monnaie_recursif(somme_a_rendre,monnaie):\n",
    "    \"\"\"\n",
    "        Renvoie le nombre minimal de pièces pour réaliser la somme à rendre \n",
    "        avec la monnaie utilisée.\n",
    "    \"\"\"\n",
    "    if somme_a_rendre==0:\n",
    "        return 0\n",
    "    \n",
    "    r = somme_a_rendre # le pire cas avec uniquement des pièces de 1 euro\n",
    "    \n",
    "    for piece in monnaie:\n",
    "        if somme_a_rendre-piece >= 0:\n",
    "            r = min(r,1+rendu_monnaie_recursif(somme_a_rendre-piece,monnaie))\n",
    "    return r\n"
   ]
  },
  {
   "cell_type": "code",
   "execution_count": 3,
   "metadata": {},
   "outputs": [
    {
     "name": "stdout",
     "output_type": "stream",
     "text": [
      "7 2\n",
      "[2, 1, 1, 2, 1, 1]\n"
     ]
    }
   ],
   "source": [
    "appel_recursif=[]\n",
    "r=rendu_monnaie_recursif(3,[2,1])\n",
    "print(len(appel_recursif)+1,r)\n",
    "print(appel_recursif)"
   ]
  },
  {
   "cell_type": "code",
   "execution_count": 7,
   "metadata": {},
   "outputs": [
    {
     "data": {
      "text/plain": [
       "18"
      ]
     },
     "execution_count": 7,
     "metadata": {},
     "output_type": "execute_result"
    }
   ],
   "source": [
    "rendu_monnaie_recursif(35,[2,1])"
   ]
  },
  {
   "cell_type": "code",
   "execution_count": 2,
   "metadata": {},
   "outputs": [
    {
     "data": {
      "text/plain": [
       "4"
      ]
     },
     "execution_count": 2,
     "metadata": {},
     "output_type": "execute_result"
    }
   ],
   "source": [
    "rendu_monnaie_recursif(19,[10,6,1])"
   ]
  },
  {
   "cell_type": "code",
   "execution_count": 218,
   "metadata": {},
   "outputs": [],
   "source": [
    "def rendu_monnaie_mem(X,P):\n",
    "    nb = [0]*(X+1)\n",
    "    return rendu_monnaie_memoisation(X,P,nb)\n",
    "\n",
    "def rendu_monnaie_memoisation(somme_a_rendre,monnaie,nb):\n",
    "    if somme_a_rendre==0:\n",
    "        return 0\n",
    "    elif nb[somme_a_rendre]>0:\n",
    "        return nb[somme_a_rendre]\n",
    "    r = somme_a_rendre # le pire cas avec uniquement des pièces de 1 euro\n",
    "    for p in monnaie:\n",
    "        if somme_a_rendre-p >= 0 and nb[somme_a_rendre]==0:\n",
    "            r = min(r,1+rendu_monnaie_memoisation(somme_a_rendre-p,monnaie,nb))\n",
    "            nb[somme_a_rendre]=r\n",
    "    print(nb)\n",
    "    return r"
   ]
  },
  {
   "cell_type": "code",
   "execution_count": 223,
   "metadata": {},
   "outputs": [
    {
     "name": "stdout",
     "output_type": "stream",
     "text": [
      "[0, 1, 0, 0]\n",
      "[0, 1, 0, 2]\n"
     ]
    },
    {
     "data": {
      "text/plain": [
       "2"
      ]
     },
     "execution_count": 223,
     "metadata": {},
     "output_type": "execute_result"
    }
   ],
   "source": [
    "rendu_monnaie_mem(3,[2,1])"
   ]
  },
  {
   "cell_type": "code",
   "execution_count": 220,
   "metadata": {},
   "outputs": [
    {
     "name": "stdout",
     "output_type": "stream",
     "text": [
      "[0, 1, 0, 0, 0, 0, 0, 0, 0, 0, 0, 0, 0, 0, 0, 0, 0, 0, 0, 0, 0, 0, 0, 0, 0, 0, 0, 0, 0, 0, 0, 0, 0, 0, 0, 0, 0, 0, 0, 0, 0, 0, 0, 0, 0, 0, 0, 0, 0]\n",
      "[0, 1, 0, 2, 0, 0, 0, 0, 0, 0, 0, 0, 0, 0, 0, 0, 0, 0, 0, 0, 0, 0, 0, 0, 0, 0, 0, 0, 0, 0, 0, 0, 0, 0, 0, 0, 0, 0, 0, 0, 0, 0, 0, 0, 0, 0, 0, 0, 0]\n",
      "[0, 1, 0, 2, 0, 0, 0, 0, 3, 0, 0, 0, 0, 0, 0, 0, 0, 0, 0, 0, 0, 0, 0, 0, 0, 0, 0, 0, 0, 0, 0, 0, 0, 0, 0, 0, 0, 0, 0, 0, 0, 0, 0, 0, 0, 0, 0, 0, 0]\n",
      "[0, 1, 0, 2, 0, 0, 0, 0, 3, 0, 0, 0, 0, 0, 0, 0, 0, 0, 0, 0, 0, 0, 0, 0, 0, 0, 0, 0, 4, 0, 0, 0, 0, 0, 0, 0, 0, 0, 0, 0, 0, 0, 0, 0, 0, 0, 0, 0, 0]\n",
      "[0, 1, 0, 2, 0, 0, 0, 0, 3, 0, 0, 0, 0, 0, 0, 0, 0, 0, 0, 0, 0, 0, 0, 0, 0, 0, 0, 0, 4, 0, 0, 0, 0, 0, 0, 0, 0, 0, 0, 0, 0, 0, 0, 0, 0, 0, 0, 0, 5]\n"
     ]
    },
    {
     "data": {
      "text/plain": [
       "5"
      ]
     },
     "execution_count": 220,
     "metadata": {},
     "output_type": "execute_result"
    }
   ],
   "source": [
    "rendu_monnaie_mem(48,[50,20,10,5,2,1])"
   ]
  },
  {
   "cell_type": "code",
   "execution_count": 47,
   "metadata": {},
   "outputs": [],
   "source": [
    "def rendu_monnaie_mem(X,P):\n",
    "    liste=[]\n",
    "    nb = [0]*(X+1)\n",
    "    return rendu_monnaie_memoisation(X,P,nb,liste)\n",
    "\n",
    "def rendu_monnaie_memoisation(somme_a_rendre,monnaie,nb,liste):\n",
    "    if somme_a_rendre==0:\n",
    "        return 0,liste\n",
    "    elif nb[somme_a_rendre]>0:\n",
    "        return nb[somme_a_rendre],liste\n",
    "    r = somme_a_rendre # le pire cas avec uniquement des pièces de 1 euro\n",
    "    for p in monnaie:\n",
    "        if somme_a_rendre-p >= 0 and nb[somme_a_rendre]==0:\n",
    "            r = min(r,1+rendu_monnaie_memoisation(somme_a_rendre-p,monnaie,nb,liste)[0])\n",
    "            nb[somme_a_rendre]=r\n",
    "            liste.append(p)\n",
    "    return (r,liste)"
   ]
  },
  {
   "cell_type": "code",
   "execution_count": 48,
   "metadata": {},
   "outputs": [
    {
     "data": {
      "text/plain": [
       "(8, [1, 3, 30, 30, 30, 30, 30, 30])"
      ]
     },
     "execution_count": 48,
     "metadata": {},
     "output_type": "execute_result"
    }
   ],
   "source": [
    "rendu_monnaie_mem(184,[30,24,12,6,3,1])"
   ]
  },
  {
   "cell_type": "code",
   "execution_count": 50,
   "metadata": {},
   "outputs": [
    {
     "name": "stdout",
     "output_type": "stream",
     "text": [
      "(51, [1, 2, 2, 2, 2, 2, 2, 2, 2, 2, 2, 2, 2, 2, 2, 2, 2, 2, 2, 2, 2, 2, 2, 2, 2, 2, 2, 2, 2, 2, 2, 2, 2, 2, 2, 2, 2, 2, 2, 2, 2, 2, 2, 2, 2, 2, 2, 2, 2, 2, 2])\n"
     ]
    }
   ],
   "source": [
    "v=rendu_monnaie_mem(101,[2,1])\n",
    "print(v)"
   ]
  },
  {
   "cell_type": "markdown",
   "metadata": {},
   "source": [
    "Pour déterminer la compositon de pièces et billets minimale pour égaler la somme demandée, on procède par étapes succesives. Par exemple, comment rendre 100 unités avec le moins de pièces parmi [30,24,12,6,3,1].\n",
    "\n",
    "D'après l'algorithme glouton:\n",
    "\n",
    "- 100-30=70 donc 1 billet de 30 unités plus la somme à rendre sur 70;\n",
    "- 70-30=40 donc 1 billet de 30 unités plus la somme à rendre sur 40;\n",
    "- 40-30=10 donc 1 billet de 30 unités plus la somme à rendre sur 10;\n",
    "- 10-6=4 donc 1 billet de 6 unités plus la somme à rendre sur 4;\n",
    "- 4-3=1 donc 1 pièce de 3 unités plus la somme à rendre sur 1;\n",
    "- 1-1=0 donc 1 pièce de 1 unité\n",
    "\n",
    "En programmation dynamique, on enregistre dans une liste comment rendre :\n",
    "- 1 unité => [1]\n",
    "- 2 unités => [1,2]\n",
    "- 3 unités => [1,2,1]\n",
    "- 4 unités => [1,2,1,2] car 4=3+1 donc 2 pièces\n",
    "- 5 unités => [1,2,1,2,3] car 5=3+2 donc 1 pièce de 3 et les 2 pièces de 1 unité d'après le tableau\n",
    "- ...\n",
    "- 10 unités => [1,...,1,...,3] car 10=6+4 donc 1 pièce de 6 avec les 2 pièces pour faire 4 (tableau)\n",
    "- ...\n",
    "- 40 unités => [1...,3,...,4] car 40=30+10 donc 1 pièce de 30 unités et les 3 pièces pour 10 d'après le tableau;\n",
    "- ...\n",
    "- 70 unités => [1,...,4,...,5] car 70=30+40 donc 1 pièce de 30 et les 4 pièces pour 40 unités d'après le tableau donc 5 pièces au total pour 70 unités;\n",
    "- ...\n",
    "- 100 unités => [1,...,5,...,6] car 100=30+70 donc 1 pièce de 30 et les 5 pièces pour 70 unités d'après le tableau."
   ]
  },
  {
   "cell_type": "code",
   "execution_count": 10,
   "metadata": {},
   "outputs": [],
   "source": [
    "def rendu_monnaie_dynamique(somme_a_rendre,monnaie):\n",
    "    # on initialise une liste de somme_a_rendre+1 valeurs nulles\n",
    "    nb=[0]*(somme_a_rendre+1)\n",
    "    # on complète toutes les sommes entre 1 et la somme_a_rendre avec le meilleur rendu possible\n",
    "    for s in range(1,somme_a_rendre+1):\n",
    "        # on remplit le tableau avec le pire cas soit uniquement des pièces de 1 unité\n",
    "        nb[s] = s \n",
    "        # pour chaque pièce du système monétaire :\n",
    "        for p in monnaie:\n",
    "            # si la pièce est inférieure à la somme à rendre\n",
    "            if s-p >= 0:\n",
    "                # on compare le nombre de pièces nécessaires actuellement dans le tableau \n",
    "                # avec le nombre de pièces nécessaires pour rendre la somme moins la pièce p + la pièce p\n",
    "                nb[s] = min(nb[s],1+nb[s-p])\n",
    "    return nb[somme_a_rendre]"
   ]
  },
  {
   "cell_type": "code",
   "execution_count": 11,
   "metadata": {},
   "outputs": [
    {
     "data": {
      "text/plain": [
       "3"
      ]
     },
     "execution_count": 11,
     "metadata": {},
     "output_type": "execute_result"
    }
   ],
   "source": [
    "rendu_monnaie_dynamique(15,[5,2,1])"
   ]
  },
  {
   "cell_type": "code",
   "execution_count": 5,
   "metadata": {},
   "outputs": [
    {
     "data": {
      "text/plain": [
       "5"
      ]
     },
     "execution_count": 5,
     "metadata": {},
     "output_type": "execute_result"
    }
   ],
   "source": [
    "rendu_monnaie_dynamique(48,[50,20,10,5,2,1])"
   ]
  },
  {
   "cell_type": "code",
   "execution_count": 75,
   "metadata": {},
   "outputs": [
    {
     "data": {
      "text/plain": [
       "6"
      ]
     },
     "execution_count": 75,
     "metadata": {},
     "output_type": "execute_result"
    }
   ],
   "source": [
    "rendu_monnaie_dynamique(100,[30,24,12,6,3,1])"
   ]
  },
  {
   "cell_type": "code",
   "execution_count": 76,
   "metadata": {},
   "outputs": [
    {
     "data": {
      "text/plain": [
       "4"
      ]
     },
     "execution_count": 76,
     "metadata": {},
     "output_type": "execute_result"
    }
   ],
   "source": [
    "rendu_monnaie_dynamique(20,[30,24,12,6,3,1])"
   ]
  },
  {
   "cell_type": "code",
   "execution_count": 12,
   "metadata": {},
   "outputs": [],
   "source": [
    "def rendu_monnaie_dynamique_sol(s,monnaie):\n",
    "    nb=[0]*(s+1)\n",
    "    sol=[[]]*(s+1)\n",
    "    for n in range(1,s+1):\n",
    "        nb[n] = n # le pire cas avec uniquement des pièces de 1 euro\n",
    "        sol[n]=[1]*n\n",
    "        for p in monnaie:\n",
    "            if s-p >= 0 and 1+nb[n-p] < nb[n]:\n",
    "                nb[n] = 1+nb[n-p]\n",
    "                sol[n]=sol[n-p].copy()\n",
    "                sol[n].append(p)\n",
    "    return sol[s]"
   ]
  },
  {
   "cell_type": "code",
   "execution_count": 13,
   "metadata": {},
   "outputs": [
    {
     "data": {
      "text/plain": [
       "[5, 5, 5]"
      ]
     },
     "execution_count": 13,
     "metadata": {},
     "output_type": "execute_result"
    }
   ],
   "source": [
    "rendu_monnaie_dynamique_sol(15,[5,2,1])"
   ]
  },
  {
   "cell_type": "code",
   "execution_count": 14,
   "metadata": {},
   "outputs": [
    {
     "data": {
      "text/plain": [
       "[30, 30, 30, 30]"
      ]
     },
     "execution_count": 14,
     "metadata": {},
     "output_type": "execute_result"
    }
   ],
   "source": [
    "rendu_monnaie_dynamique_sol(92,[30,24,12,6,3,1])"
   ]
  },
  {
   "cell_type": "code",
   "execution_count": 16,
   "metadata": {},
   "outputs": [
    {
     "data": {
      "text/plain": [
       "3"
      ]
     },
     "execution_count": 16,
     "metadata": {},
     "output_type": "execute_result"
    }
   ],
   "source": [
    "rendu_monnaie_dynamique(13,[10,6,1])"
   ]
  },
  {
   "cell_type": "code",
   "execution_count": 17,
   "metadata": {},
   "outputs": [],
   "source": [
    "def rendu_dynamique(somme_a_rendre,monnaie):\n",
    "    \"\"\"\n",
    "        Renvoie le nombre minimal de pièces pour réaliser la somme à rendre \n",
    "        avec la monnaie utilisée.\n",
    "    \"\"\"\n",
    "    if somme_a_rendre==0:\n",
    "        return 0\n",
    "    \n",
    "    r = somme_a_rendre # le pire cas avec uniquement des pièces de 1 euro\n",
    "    \n",
    "    for piece in monnaie:\n",
    "        if somme_a_rendre-piece >= 0:\n",
    "            r = min(r,1+rendu_dynamique(somme_a_rendre-piece,monnaie))\n",
    "    return r"
   ]
  },
  {
   "cell_type": "code",
   "execution_count": 18,
   "metadata": {},
   "outputs": [
    {
     "data": {
      "text/plain": [
       "3"
      ]
     },
     "execution_count": 18,
     "metadata": {},
     "output_type": "execute_result"
    }
   ],
   "source": [
    "rendu_dynamique(13,[10,6,1])"
   ]
  },
  {
   "cell_type": "code",
   "execution_count": 18,
   "metadata": {},
   "outputs": [],
   "source": [
    "def rendu_monnaie(somme_a_rendre,monnaie):\n",
    "    pieces_a_rendre = []\n",
    "    memoire = [0]*(somme_a_rendre+1)\n",
    "    return rendu_dynamique_mem(somme_a_rendre,monnaie,memoire,pieces_a_rendre)\n",
    "\n",
    "def rendu_dynamique_mem(somme_a_rendre,monnaie,memoire,pieces_a_rendre):\n",
    "    if somme_a_rendre == 0:\n",
    "        return 0,pieces_a_rendre\n",
    "    elif memoire[somme_a_rendre] > 0:\n",
    "        return memoire[somme_a_rendre],pieces_a_rendre\n",
    "    r = somme_a_rendre # le pire cas avec uniquement des pièces de 1 euro\n",
    "    for p in monnaie:\n",
    "        if somme_a_rendre-p >= 0:# and memoire[somme_a_rendre] == 0:\n",
    "            r = min(r, 1 + rendu_dynamique_mem(somme_a_rendre-p,monnaie,memoire,pieces_a_rendre)[0])\n",
    "            if memoire[somme_a_rendre] == 0:\n",
    "                pieces_a_rendre.append(p)\n",
    "                memoire[somme_a_rendre] = r\n",
    "    print(r,memoire,pieces_a_rendre)    \n",
    "    return (r,pieces_a_rendre)"
   ]
  },
  {
   "cell_type": "code",
   "execution_count": 21,
   "metadata": {},
   "outputs": [
    {
     "name": "stdout",
     "output_type": "stream",
     "text": [
      "1 [0, 1, 0, 0, 0, 0, 0, 0, 0, 0, 0] [1]\n",
      "2 [0, 1, 2, 0, 0, 0, 0, 0, 0, 0, 0] [1, 1]\n",
      "3 [0, 1, 2, 3, 0, 0, 0, 0, 0, 0, 0] [1, 1, 1]\n",
      "4 [0, 1, 2, 3, 4, 1, 0, 0, 0, 0, 4] [1, 1, 1, 7, 5, 1]\n",
      "1 [0, 1, 2, 3, 4, 1, 0, 0, 0, 0, 4] [1, 1, 1, 7, 5, 1]\n",
      "2 [0, 1, 2, 3, 4, 1, 2, 1, 2, 3, 4] [1, 1, 1, 7, 5, 1, 7, 7, 7, 5]\n",
      "1 [0, 1, 2, 3, 4, 1, 2, 1, 2, 3, 4] [1, 1, 1, 7, 5, 1, 7, 7, 7, 5]\n",
      "2 [0, 1, 2, 3, 4, 1, 2, 1, 2, 3, 4] [1, 1, 1, 7, 5, 1, 7, 7, 7, 5]\n",
      "3 [0, 1, 2, 3, 4, 1, 2, 1, 2, 3, 4] [1, 1, 1, 7, 5, 1, 7, 7, 7, 5]\n",
      "2 [0, 1, 2, 3, 4, 1, 2, 1, 2, 3, 4] [1, 1, 1, 7, 5, 1, 7, 7, 7, 5]\n"
     ]
    },
    {
     "data": {
      "text/plain": [
       "(2, [1, 1, 1, 7, 5, 1, 7, 7, 7, 5])"
      ]
     },
     "execution_count": 21,
     "metadata": {},
     "output_type": "execute_result"
    }
   ],
   "source": [
    "rendu_monnaie(10,[7,5,1])"
   ]
  },
  {
   "cell_type": "code",
   "execution_count": null,
   "metadata": {},
   "outputs": [],
   "source": []
  }
 ],
 "metadata": {
  "kernelspec": {
   "display_name": "Python 3",
   "language": "python",
   "name": "python3"
  },
  "language_info": {
   "codemirror_mode": {
    "name": "ipython",
    "version": 3
   },
   "file_extension": ".py",
   "mimetype": "text/x-python",
   "name": "python",
   "nbconvert_exporter": "python",
   "pygments_lexer": "ipython3",
   "version": "3.9.4"
  }
 },
 "nbformat": 4,
 "nbformat_minor": 4
}
