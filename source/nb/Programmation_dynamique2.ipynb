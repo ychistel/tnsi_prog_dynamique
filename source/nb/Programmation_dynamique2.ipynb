{
 "cells": [
  {
   "cell_type": "markdown",
   "metadata": {},
   "source": [
    "# Programmation dynamique\n",
    "\n",
    "## Exercice \n",
    "\n",
    "Soit une grille de n lignes et p colonnes.\n",
    "\n",
    "Par exemple ci-dessous, une grille 3 x 5 : n=3 et p=5\n",
    "\n",
    "On se déplace en suivant les traits de la grille du point situé en haut à gauche au point situé en bas à droite.\n",
    "\n",
    "Combien de chemins sont possibles si on se déplace :\n",
    "- soit horizontalement vers la droite\n",
    "- soit verticalemnt vers le bas\n",
    "Dans cet exemple, il y a 56 chemins possibles.\n",
    "\n",
    "Comment déterminer le nombre de tous ces chemins ?"
   ]
  },
  {
   "cell_type": "code",
   "execution_count": null,
   "metadata": {},
   "outputs": [],
   "source": []
  },
  {
   "cell_type": "code",
   "execution_count": 66,
   "metadata": {},
   "outputs": [
    {
     "name": "stdout",
     "output_type": "stream",
     "text": [
      "3268760\n"
     ]
    }
   ],
   "source": [
    "def nombre_chemins(n,p):\n",
    "    \"\"\"\n",
    "        Soit une grille de n lignes et p colonnes.\n",
    "        Par exemple ci-dessous, une grille 3 x 5 : n=3 et p=5\n",
    "         __ __ __ __ __\n",
    "        |__|__|__|__|__|\n",
    "        |__|__|__|__|__|\n",
    "        |__|__|__|__|__|\n",
    "        \n",
    "        On se déplace en suivant les traits de la grille du point situé en haut à gauche \n",
    "        au point situé en bas à droite.\n",
    "        Combien de chemins sont possibles si on se déplace :\n",
    "        - soit horizontalement vers la droite\n",
    "        - soit verticalemnt vers le bas\n",
    "        Dans cet exemple, il y a 56 chemins possibles.\n",
    "        \n",
    "        Comment déterminer le nombre de tous ces chemins ?\n",
    "        \n",
    "    \"\"\"\n",
    "    # Grille de n+1 lignes et p+1 colonnes remplies de 1\n",
    "    # Attention : [[1]*(p+1)]*(n+1) crée des copies de listes -> ne marche pas ! \n",
    "    # Les listes sont modifiées en même temps.\n",
    "    \n",
    "    nb=[[1 for j in range(p+1)] for i in range(n+1)]\n",
    "    for i in range(1,n+1):\n",
    "        for j in range(1,p+1):\n",
    "            nb[i][j]=nb[i-1][j]+nb[i][j-1]\n",
    "    return nb[n][p]\n",
    "\n",
    "nb=nombre_chemins(10,15)\n",
    "print(nb)"
   ]
  },
  {
   "cell_type": "code",
   "execution_count": 68,
   "metadata": {},
   "outputs": [
    {
     "name": "stdout",
     "output_type": "stream",
     "text": [
      "[[1, 1, 1, 1], [1, 1, 1, 1], [1, 1, 1, 1], [1, 1, 1, 1]]\n",
      "[[-1, 1, 1, 1], [-1, 1, 1, 1], [-1, 1, 1, 1], [-1, 1, 1, 1]]\n"
     ]
    }
   ],
   "source": [
    "L=[[1]*4]*4\n",
    "print(L)\n",
    "L[0][0]=-1\n",
    "print(L)"
   ]
  },
  {
   "cell_type": "markdown",
   "metadata": {},
   "source": [
    "### Algorithme récursif\n",
    "\n",
    "Lorsque la position du point se situe en bas ou à droite, il n'y a dans ces cas qu'un seul chemin pour accéder au point d'arrivée.\n",
    "\n",
    "Le premier appel se fait au point (n,p). \n",
    "Le nombre de chemins depuis ce point de départ est égal au nombre de chemins pour le point juste à droite auquel on ajoute le nombre de chamins pour le point juste en dessous."
   ]
  },
  {
   "cell_type": "code",
   "execution_count": 1,
   "metadata": {},
   "outputs": [
    {
     "data": {
      "text/plain": [
       "10"
      ]
     },
     "execution_count": 1,
     "metadata": {},
     "output_type": "execute_result"
    }
   ],
   "source": [
    "def nombre_chemins_recursif(n,p):\n",
    "    if n==0 or p==0:\n",
    "        return 1\n",
    "    else:\n",
    "        return nombre_chemins_recursif(n-1,p) + nombre_chemins_recursif(n,p-1)\n",
    "    \n",
    "nombre_chemins_recursif(2,3)"
   ]
  },
  {
   "cell_type": "markdown",
   "metadata": {},
   "source": [
    "## Somme des nombres dans une pyramide\n",
    "\n"
   ]
  },
  {
   "cell_type": "code",
   "execution_count": 81,
   "metadata": {},
   "outputs": [],
   "source": [
    "P=[[10,2,8,6,9,0],[10,3,7,5,6],[9,5,9,3],[2,4,6],[7,4],[3]]"
   ]
  },
  {
   "cell_type": "code",
   "execution_count": 82,
   "metadata": {},
   "outputs": [],
   "source": [
    "def somme_pyramide(P):\n",
    "    L=[P[0]]\n",
    "    for i in range(1,len(P)):\n",
    "        L.append([max(P[i][k]+L[i-1][k],P[i][k]+L[i-1][k+1]) for k in range(len(P[i]))])\n",
    "    chemin=[0]\n",
    "    #print(L)\n",
    "    for i in range(1,len(L)):\n",
    "        j=chemin[i-1]\n",
    "        if L[-i-1][j]>L[-i-1][j+1]:\n",
    "            chemin.append(j)\n",
    "        else:\n",
    "            chemin.append(j+1)\n",
    "    return chemin"
   ]
  },
  {
   "cell_type": "code",
   "execution_count": 83,
   "metadata": {},
   "outputs": [
    {
     "name": "stdout",
     "output_type": "stream",
     "text": [
      "[0, 0, 0, 0, 0, 0]\n",
      "3-7-2-9-10-10-"
     ]
    }
   ],
   "source": [
    "chemin=somme_pyramide(P)\n",
    "print(chemin)\n",
    "for i in range(len(P)):\n",
    "    print(P[-i-1][chemin[i]],end='-')"
   ]
  },
  {
   "cell_type": "code",
   "execution_count": null,
   "metadata": {},
   "outputs": [],
   "source": [
    "def somme_pyramide_recursif(P):\n",
    "    "
   ]
  }
 ],
 "metadata": {
  "kernelspec": {
   "display_name": "Python 3",
   "language": "python",
   "name": "python3"
  },
  "language_info": {
   "codemirror_mode": {
    "name": "ipython",
    "version": 3
   },
   "file_extension": ".py",
   "mimetype": "text/x-python",
   "name": "python",
   "nbconvert_exporter": "python",
   "pygments_lexer": "ipython3",
   "version": "3.9.4"
  }
 },
 "nbformat": 4,
 "nbformat_minor": 4
}
