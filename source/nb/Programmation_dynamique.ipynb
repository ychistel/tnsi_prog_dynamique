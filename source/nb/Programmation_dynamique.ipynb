{
 "cells": [
  {
   "cell_type": "markdown",
   "metadata": {},
   "source": [
    "# Programmation dynamique\n",
    "\n",
    "## Exercice \n",
    "\n",
    "Soit une grille de n lignes et p colonnes.\n",
    "\n",
    "Par exemple ci-dessous, une grille 3 x 5 : n=3 et p=5\n",
    "\n",
    "On se déplace en suivant les traits de la grille du point situé en haut à gauche au point situé en bas à droite.\n",
    "\n",
    "Combien de chemins sont possibles si on se déplace :\n",
    "- soit horizontalement vers la droite\n",
    "- soit verticalemnt vers le bas\n",
    "Dans cet exemple, il y a 56 chemins possibles.\n",
    "\n",
    "Comment déterminer le nombre de tous ces chemins ?"
   ]
  },
  {
   "cell_type": "code",
   "execution_count": null,
   "metadata": {},
   "outputs": [],
   "source": []
  },
  {
   "cell_type": "code",
   "execution_count": 66,
   "metadata": {},
   "outputs": [
    {
     "name": "stdout",
     "output_type": "stream",
     "text": [
      "3268760\n"
     ]
    }
   ],
   "source": [
    "def nombre_chemins(n,p):\n",
    "    \"\"\"\n",
    "        Soit une grille de n lignes et p colonnes.\n",
    "        Par exemple ci-dessous, une grille 3 x 5 : n=3 et p=5\n",
    "         __ __ __ __ __\n",
    "        |__|__|__|__|__|\n",
    "        |__|__|__|__|__|\n",
    "        |__|__|__|__|__|\n",
    "        \n",
    "        On se déplace en suivant les traits de la grille du point situé en haut à gauche \n",
    "        au point situé en bas à droite.\n",
    "        Combien de chemins sont possibles si on se déplace :\n",
    "        - soit horizontalement vers la droite\n",
    "        - soit verticalemnt vers le bas\n",
    "        Dans cet exemple, il y a 56 chemins possibles.\n",
    "        \n",
    "        Comment déterminer le nombre de tous ces chemins ?\n",
    "        \n",
    "    \"\"\"\n",
    "    # Grille de n+1 lignes et p+1 colonnes remplies de 1\n",
    "    # Attention : [[1]*(p+1)]*(n+1) crée des copies de listes -> ne marche pas ! \n",
    "    # Les listes sont modifiées en même temps.\n",
    "    \n",
    "    nb=[[1 for j in range(p+1)] for i in range(n+1)]\n",
    "    for i in range(1,n+1):\n",
    "        for j in range(1,p+1):\n",
    "            nb[i][j]=nb[i-1][j]+nb[i][j-1]\n",
    "    return nb[n][p]\n",
    "\n",
    "nb=nombre_chemins(10,15)\n",
    "print(nb)"
   ]
  },
  {
   "cell_type": "code",
   "execution_count": 68,
   "metadata": {},
   "outputs": [
    {
     "name": "stdout",
     "output_type": "stream",
     "text": [
      "[[1, 1, 1, 1], [1, 1, 1, 1], [1, 1, 1, 1], [1, 1, 1, 1]]\n",
      "[[-1, 1, 1, 1], [-1, 1, 1, 1], [-1, 1, 1, 1], [-1, 1, 1, 1]]\n"
     ]
    }
   ],
   "source": [
    "L=[[1]*4]*4\n",
    "print(L)\n",
    "L[0][0]=-1\n",
    "print(L)"
   ]
  },
  {
   "cell_type": "markdown",
   "metadata": {},
   "source": [
    "### Algorithme récursif\n",
    "\n",
    "Lorsque la position du point se situe en bas ou à droite, il n'y a dans ces cas qu'un seul chemin pour accéder au point d'arrivée.\n",
    "\n",
    "Le premier appel se fait au point (n,p). \n",
    "Le nombre de chemins depuis ce point de départ est égal au nombre de chemins pour le point juste à droite auquel on ajoute le nombre de chamins pour le point juste en dessous."
   ]
  },
  {
   "cell_type": "code",
   "execution_count": 1,
   "metadata": {},
   "outputs": [
    {
     "data": {
      "text/plain": [
       "10"
      ]
     },
     "execution_count": 1,
     "metadata": {},
     "output_type": "execute_result"
    }
   ],
   "source": [
    "def nombre_chemins_recursif(n,p):\n",
    "    if n==0 or p==0:\n",
    "        return 1\n",
    "    else:\n",
    "        return nombre_chemins_recursif(n-1,p) + nombre_chemins_recursif(n,p-1)\n",
    "    \n",
    "nombre_chemins_recursif(2,3)"
   ]
  },
  {
   "cell_type": "markdown",
   "metadata": {},
   "source": [
    "## Somme des nombres dans une pyramide\n",
    "\n"
   ]
  },
  {
   "cell_type": "code",
   "execution_count": 29,
   "metadata": {},
   "outputs": [],
   "source": [
    "P=[[3],[7,4],[2,4,6],[9,5,9,3],[4,3,7,5,6],[10,2,8,6,9,0]]\n",
    "Q=[[7],\n",
    "   [16,12],\n",
    "   [9,8,1],\n",
    "   [18,4,19,20],\n",
    "   [5,6,13,8,18],\n",
    "   [11,3,19,7,17,2],\n",
    "   [5,2,6,11,2,13,20],\n",
    "   [8,9,13,7,5,2,1,6],\n",
    "   [16,5,11,8,7,12,14,16,3],\n",
    "   [6,15,19,3,6,6,10,15,1,18]\n",
    "  ]"
   ]
  },
  {
   "cell_type": "markdown",
   "metadata": {},
   "source": [
    "![pyramide](../img/pyramide.jpg)"
   ]
  },
  {
   "cell_type": "code",
   "execution_count": 4,
   "metadata": {},
   "outputs": [],
   "source": [
    "def somme_pyramide(P):\n",
    "    L=[P[0]]\n",
    "    for i in range(1,len(P)):\n",
    "        ligne=[]\n",
    "        for k in range(len(P[i])):\n",
    "            if k==0:\n",
    "                ligne.append(P[i][k]+L[i-1][k])\n",
    "            elif k==len(P[i])-1:\n",
    "                ligne.append(P[i][k]+L[i-1][k-1])\n",
    "            else:\n",
    "                ligne.append(max(P[i][k]+L[i-1][k-1],P[i][k]+L[i-1][k]))\n",
    "        L.append(ligne)\n",
    "    return L\n",
    "\n",
    "def chemin_pyramide(P):\n",
    "    L=somme_pyramide(P)\n",
    "    j=L[-1].index(max(L[-1]))\n",
    "    chemin=[P[-1][j]]\n",
    "    for i in range(2,len(L)+1):\n",
    "        if j==0 or j==len(L[-i]):\n",
    "            chemin.append(P[-i][j])\n",
    "        elif L[-i][j-1]>L[-i][j]:\n",
    "            j=j-1\n",
    "            chemin.append(P[-i][j])\n",
    "        else:\n",
    "            chemin.append(P[-i][j])\n",
    "    chemin.reverse()\n",
    "    return chemin\n",
    "\n",
    "def somme_max_pyramide(P):\n",
    "    chemin=chemin_pyramide(P)\n",
    "    return sum(chemin)"
   ]
  },
  {
   "cell_type": "code",
   "execution_count": 5,
   "metadata": {},
   "outputs": [
    {
     "name": "stdout",
     "output_type": "stream",
     "text": [
      "[[7], [16, 12], [9, 8, 1], [18, 4, 19, 20], [5, 6, 13, 8, 18], [11, 3, 19, 7, 17, 2], [5, 2, 6, 11, 2, 13, 20], [8, 9, 13, 7, 5, 2, 1, 6], [16, 5, 11, 8, 7, 12, 14, 16, 3], [6, 15, 19, 3, 6, 6, 10, 15, 1, 18]]\n",
      "[[7], [23, 19], [32, 31, 20], [50, 36, 50, 40], [55, 56, 63, 58, 58], [66, 59, 82, 70, 75, 60], [71, 68, 88, 93, 77, 88, 80], [79, 80, 101, 100, 98, 90, 89, 86], [95, 85, 112, 109, 107, 110, 104, 105, 89], [101, 110, 131, 115, 115, 116, 120, 120, 106, 107]]\n",
      "[7, 16, 8, 19, 13, 19, 6, 13, 11, 19]\n"
     ]
    },
    {
     "data": {
      "text/plain": [
       "131"
      ]
     },
     "execution_count": 5,
     "metadata": {},
     "output_type": "execute_result"
    }
   ],
   "source": [
    "print(Q)\n",
    "L=somme_pyramide(Q)\n",
    "print(L)\n",
    "chemin=chemin_pyramide(Q)\n",
    "print(chemin)\n",
    "sum(chemin)"
   ]
  },
  {
   "cell_type": "code",
   "execution_count": 97,
   "metadata": {},
   "outputs": [],
   "source": [
    "from random import randint\n",
    "\n",
    "def sous_pyramide(P,gauche=True):\n",
    "    L=[]\n",
    "    if gauche:\n",
    "        for i in range(len(P)):\n",
    "            L.append(P[i][:len(P[i])-1])\n",
    "    else:\n",
    "        for i in range(len(P)):\n",
    "            L.append(P[i][1:])\n",
    "    return L[1:]\n",
    "\n",
    "def somme_pyramide_recursif(P):\n",
    "    if len(P)==1:\n",
    "        return P[0][0]\n",
    "    else:\n",
    "        somme_max=P[0][0]+max(somme_pyramide_recursif(sous_pyramide(P)),\n",
    "                              somme_pyramide_recursif(sous_pyramide(P,False))\n",
    "                             )\n",
    "    return somme_max\n",
    "\n",
    "def somme_pyramide_recursif_chemin(P,chemin=[],i=0,j=0):\n",
    "    \"\"\"\n",
    "        Déterminer la somme maximale récursivement a été vu avec la fonction récursive précédente.\n",
    "        Ici, on enregistre le chemin à suivre dans une liste, construite récursivement. \n",
    "        Lors de la remontée de la pile d'appels, on doit choisir entre deux trajets Y et Y issus \n",
    "        d'une valeur V.\n",
    "        - Les appels récursifs se font jusqu'au cas de base, soit une pyramide de hauteur n=1, et on stocke les\n",
    "        indices des valeurs dans la liste chemin\n",
    "        chemin = [ [x1,x1],[y1,y1]].\n",
    "        - On remonte la pile d'appels une première fois, soit avec une pyramide de hauteur n=2:\n",
    "            si gauche est maximal, on supprime [y1,y1] avec pop(-1)\n",
    "            si droit maximal, on supprime [x1,x1] avec pop(-n)=pop(-2)\n",
    "            on ajoute la valeur V repérée [x2,x2] (pour l'exemple chemin gauche)\n",
    "            chemin=[[x1,x1],[x2,x2]]\n",
    "        - On remonte la pile d'appels qui relance des appels récursifs jusqu'au cas de base:\n",
    "        chemin=[[x1,x1],[x2,x2],[y1,y1],[z1,z1]]\n",
    "        - on remonte la pile d'appels avec une pyramide de hauteur n=2\n",
    "            si gauche est maximal, on supprime [z1,z1] avec pop(-1)\n",
    "            si droit maximal, on supprime [y1,y1] avec pop(-n)=pop(-2)\n",
    "            on ajoute la valeur V repérée [y2,y2] (pour l'exemple chemin droit)\n",
    "            chemin=[[x1,x1],[x2,x2],[y1,y1],[y2,y2]]\n",
    "        - on remonte la pile d'appels avec la pyramide de hauteur n=3\n",
    "            si gauche est maximal, on supprime [y1,y1],[y2,y2] avec pop(-1) 2 fois (boucle for)\n",
    "            si droit maximal, on supprime [x1,x1],[x2,x2] avec pop(-n)=pop(-2) 2 fois (boucle for)\n",
    "            on ajoute la valeur V repérée [x3,x3] (pour l'exemple chemin gauche)\n",
    "            chemin=[[x1,x1],[x2,x2],[x3,x3]]\n",
    "    \"\"\"\n",
    "    if len(P)==1:\n",
    "        chemin.append([i,j])\n",
    "        return (P[0][0],chemin)\n",
    "    else:\n",
    "        i+=1\n",
    "        n=len(P)\n",
    "        gauche=sous_pyramide(P,True)\n",
    "        droit=sous_pyramide(P,False)\n",
    "        somme_gauche=somme_pyramide_recursif_chemin(gauche,chemin,i,j)[0]\n",
    "        somme_droit=somme_pyramide_recursif_chemin(droit,chemin,i,j+1)[0]\n",
    "        if somme_gauche>=somme_droit:\n",
    "            somme_max=P[0][0]+somme_gauche\n",
    "            for _ in range(n-1):\n",
    "                chemin.pop(-1)\n",
    "            chemin.append([i-1,j])            \n",
    "        else:\n",
    "            somme_max=P[0][0]+somme_droit                        \n",
    "            for _ in range(n-1):\n",
    "                chemin.pop(-n)\n",
    "            chemin.append([i-1,j])                \n",
    "    return (somme_max,chemin)\n",
    "\n",
    "def affiche_chemin(P):\n",
    "    s=somme_pyramide_recursif_chemin(P,[])\n",
    "    print(\"La somme maximale vaut %s\" % s[0])\n",
    "    chemin=[]\n",
    "    s[1].reverse()\n",
    "    print(s[1])\n",
    "    for couple in s[1]:\n",
    "        chemin.append(P[couple[0]][couple[1]])\n",
    "    print(\"Le chemin à suivre est:\")\n",
    "    for k in range(len(chemin)-1):\n",
    "        print(chemin[k],end=\", \")\n",
    "    print(chemin[-1])\n",
    "    \n",
    "def creer_pyramide(n):\n",
    "    P=[]\n",
    "    for k in range(1,n+1):\n",
    "        ligne=[]\n",
    "        for i in range(k):\n",
    "            ligne.append(randint(0,20))\n",
    "        P.append(ligne)\n",
    "    return P\n",
    "\n",
    "def affiche_pyramide(P):\n",
    "    n=len(P)\n",
    "    pyramide=\"\\n\"\n",
    "    for k in range(1,n+1):\n",
    "        pyramide+=\"  \"*(n-k)\n",
    "        for i in range(k):\n",
    "            pyramide+=\"  \" + \"%2d\" % P[k-1][i]\n",
    "        pyramide+=\" \"*(n-k)\n",
    "        pyramide+=\"\\n\"\n",
    "    print(pyramide)"
   ]
  },
  {
   "cell_type": "code",
   "execution_count": 98,
   "metadata": {},
   "outputs": [
    {
     "name": "stdout",
     "output_type": "stream",
     "text": [
      "[[13], [7, 1], [9, 8, 11], [20, 2, 15, 16], [18, 13, 1, 3, 11], [7, 18, 2, 12, 14, 7], [1, 14, 18, 10, 2, 8, 3], [12, 1, 9, 4, 18, 6, 3, 17], [4, 3, 12, 11, 2, 11, 14, 12, 12], [1, 5, 11, 12, 20, 7, 17, 5, 0, 20]]\n",
      "La somme maximale vaut 143\n",
      "[[0, 0], [1, 0], [2, 0], [3, 0], [4, 0], [5, 1], [6, 2], [7, 2], [8, 3], [9, 4]]\n",
      "Le chemin à suivre est:\n",
      "13, 7, 9, 20, 18, 18, 18, 9, 11, 20\n",
      "\n",
      "                    13         \n",
      "                   7   1        \n",
      "                 9   8  11       \n",
      "              20   2  15  16      \n",
      "            18  13   1   3  11     \n",
      "           7  18   2  12  14   7    \n",
      "         1  14  18  10   2   8   3   \n",
      "      12   1   9   4  18   6   3  17  \n",
      "     4   3  12  11   2  11  14  12  12 \n",
      "   1   5  11  12  20   7  17   5   0  20\n",
      "\n"
     ]
    }
   ],
   "source": [
    "#P=[[3],[7,4],[2,4,6],[9,5,9,3]]\n",
    "#P=[[3],[7,4],[2,4,6],[9,5,9,3],[10,3,7,5,6],[10,2,8,6,9,0]]\n",
    "P=creer_pyramide(10)\n",
    "print(P)\n",
    "affiche_chemin(P)\n",
    "affiche_pyramide(P)"
   ]
  },
  {
   "cell_type": "code",
   "execution_count": null,
   "metadata": {},
   "outputs": [],
   "source": []
  }
 ],
 "metadata": {
  "kernelspec": {
   "display_name": "Python 3",
   "language": "python",
   "name": "python3"
  },
  "language_info": {
   "codemirror_mode": {
    "name": "ipython",
    "version": 3
   },
   "file_extension": ".py",
   "mimetype": "text/x-python",
   "name": "python",
   "nbconvert_exporter": "python",
   "pygments_lexer": "ipython3",
   "version": "3.9.4"
  }
 },
 "nbformat": 4,
 "nbformat_minor": 4
}
